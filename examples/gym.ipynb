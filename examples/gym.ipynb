{
 "cells": [
  {
   "cell_type": "code",
   "execution_count": 1,
   "metadata": {},
   "outputs": [
    {
     "name": "stdout",
     "output_type": "stream",
     "text": [
      "-- Blackjack-v1 --\n",
      "Action Space: Discrete(2)\n",
      "Observation Space: Tuple(Discrete(32), Discrete(11), Discrete(2))\n",
      "Metadata: {'render_modes': ['human', 'rgb_array'], 'render_fps': 4}\n",
      "Spec: EnvSpec(id='Blackjack-v1', entry_point='gymnasium.envs.toy_text.blackjack:BlackjackEnv', reward_threshold=None, nondeterministic=False, max_episode_steps=None, order_enforce=True, disable_env_checker=False, kwargs={'sab': False, 'natural': False}, namespace=None, name='Blackjack', version=1, additional_wrappers=(), vector_entry_point=None)\n",
      "\n",
      "0.0\n",
      "\n",
      "BlackjackAgent(env=<OrderEnforcing<PassiveEnvChecker<BlackjackEnv<Blackjack-v1>>>>, q_values=defaultdict(<function BlackjackAgent.__init__.<locals>.<lambda> at 0x106f60f40>, {}), initial_epsilon=1.0, epsilon_decay=2e-05, final_epsilon=0.1, discount_factor=0.95)\n",
      "\n",
      "1 1.0\n",
      "1 0.85999999999986\n",
      "1 0.71999999999972\n",
      "0 0.57999999999958\n",
      "1 0.43999999999943995\n",
      "0 0.29999999999929994\n",
      "1 0.15999999999928485\n",
      "0 0.1\n",
      "0 0.1\n",
      "0 0.1\n"
     ]
    }
   ],
   "source": [
    "from gym_basic_training import td"
   ]
  },
  {
   "cell_type": "code",
   "execution_count": 93,
   "metadata": {},
   "outputs": [
    {
     "data": {
      "text/plain": [
       "-4.4"
      ]
     },
     "execution_count": 93,
     "metadata": {},
     "output_type": "execute_result"
    }
   ],
   "source": [
    "discount_factor = 0.95\n",
    "td(12, 10, 2, 0.3)"
   ]
  }
 ],
 "metadata": {
  "kernelspec": {
   "display_name": ".venv",
   "language": "python",
   "name": "python3"
  },
  "language_info": {
   "codemirror_mode": {
    "name": "ipython",
    "version": 3
   },
   "file_extension": ".py",
   "mimetype": "text/x-python",
   "name": "python",
   "nbconvert_exporter": "python",
   "pygments_lexer": "ipython3",
   "version": "3.11.11"
  }
 },
 "nbformat": 4,
 "nbformat_minor": 2
}
